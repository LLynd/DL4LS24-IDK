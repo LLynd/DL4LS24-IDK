{
 "cells": [
  {
   "cell_type": "markdown",
   "metadata": {},
   "source": [
    "Imports and setting global seed:"
   ]
  },
  {
   "cell_type": "code",
   "execution_count": 19,
   "metadata": {},
   "outputs": [
    {
     "name": "stderr",
     "output_type": "stream",
     "text": [
      "Global seed set to 10\n"
     ]
    },
    {
     "name": "stdout",
     "output_type": "stream",
     "text": [
      "Requirement already satisfied: lightning_lite in c:\\users\\miria\\anaconda3\\envs\\dl4ls\\lib\\site-packages (1.8.6)\n",
      "Requirement already satisfied: numpy>=1.17.2 in c:\\users\\miria\\anaconda3\\envs\\dl4ls\\lib\\site-packages (from lightning_lite) (1.26.4)\n",
      "Requirement already satisfied: torch>=1.9.0 in c:\\users\\miria\\anaconda3\\envs\\dl4ls\\lib\\site-packages (from lightning_lite) (1.12.1)\n",
      "Requirement already satisfied: fsspec>2021.06.0 in c:\\users\\miria\\anaconda3\\envs\\dl4ls\\lib\\site-packages (from fsspec[http]>2021.06.0->lightning_lite) (2024.3.1)\n",
      "Requirement already satisfied: packaging>=17.0 in c:\\users\\miria\\anaconda3\\envs\\dl4ls\\lib\\site-packages (from lightning_lite) (24.0)\n",
      "Requirement already satisfied: typing-extensions>=4.0.0 in c:\\users\\miria\\anaconda3\\envs\\dl4ls\\lib\\site-packages (from lightning_lite) (4.11.0)\n",
      "Requirement already satisfied: lightning-utilities!=0.4.0,>=0.3.0 in c:\\users\\miria\\anaconda3\\envs\\dl4ls\\lib\\site-packages (from lightning_lite) (0.11.2)\n",
      "Requirement already satisfied: aiohttp!=4.0.0a0,!=4.0.0a1 in c:\\users\\miria\\anaconda3\\envs\\dl4ls\\lib\\site-packages (from fsspec[http]>2021.06.0->lightning_lite) (3.9.5)\n",
      "Requirement already satisfied: setuptools in c:\\users\\miria\\anaconda3\\envs\\dl4ls\\lib\\site-packages (from lightning-utilities!=0.4.0,>=0.3.0->lightning_lite) (68.2.2)\n",
      "Requirement already satisfied: aiosignal>=1.1.2 in c:\\users\\miria\\anaconda3\\envs\\dl4ls\\lib\\site-packages (from aiohttp!=4.0.0a0,!=4.0.0a1->fsspec[http]>2021.06.0->lightning_lite) (1.3.1)\n",
      "Requirement already satisfied: attrs>=17.3.0 in c:\\users\\miria\\anaconda3\\envs\\dl4ls\\lib\\site-packages (from aiohttp!=4.0.0a0,!=4.0.0a1->fsspec[http]>2021.06.0->lightning_lite) (23.2.0)\n",
      "Requirement already satisfied: frozenlist>=1.1.1 in c:\\users\\miria\\anaconda3\\envs\\dl4ls\\lib\\site-packages (from aiohttp!=4.0.0a0,!=4.0.0a1->fsspec[http]>2021.06.0->lightning_lite) (1.4.1)\n",
      "Requirement already satisfied: multidict<7.0,>=4.5 in c:\\users\\miria\\anaconda3\\envs\\dl4ls\\lib\\site-packages (from aiohttp!=4.0.0a0,!=4.0.0a1->fsspec[http]>2021.06.0->lightning_lite) (6.0.5)\n",
      "Requirement already satisfied: yarl<2.0,>=1.0 in c:\\users\\miria\\anaconda3\\envs\\dl4ls\\lib\\site-packages (from aiohttp!=4.0.0a0,!=4.0.0a1->fsspec[http]>2021.06.0->lightning_lite) (1.9.4)\n",
      "Requirement already satisfied: async-timeout<5.0,>=4.0 in c:\\users\\miria\\anaconda3\\envs\\dl4ls\\lib\\site-packages (from aiohttp!=4.0.0a0,!=4.0.0a1->fsspec[http]>2021.06.0->lightning_lite) (4.0.3)\n",
      "Requirement already satisfied: idna>=2.0 in c:\\users\\miria\\anaconda3\\envs\\dl4ls\\lib\\site-packages (from yarl<2.0,>=1.0->aiohttp!=4.0.0a0,!=4.0.0a1->fsspec[http]>2021.06.0->lightning_lite) (3.7)\n",
      "Note: you may need to restart the kernel to use updated packages.\n"
     ]
    },
    {
     "data": {
      "text/plain": [
       "10"
      ]
     },
     "execution_count": 19,
     "metadata": {},
     "output_type": "execute_result"
    }
   ],
   "source": [
    "%pip install lightning_lite\n",
    "import numpy as np\n",
    "import anndata as ad\n",
    "import pandas as pd\n",
    "import torch\n",
    "from lightning_lite import seed_everything\n",
    "from pytorch_lightning.callbacks import EarlyStopping  # ModelCheckpoint\n",
    "from pytorch_lightning.loggers import TensorBoardLogger\n",
    "import matplotlib.pyplot as plt\n",
    "import torch\n",
    "import torch.nn as nn\n",
    "import torch.optim as optim\n",
    "from torch.utils.data import DataLoader, TensorDataset\n",
    "import pandas as pd\n",
    "import torch.nn.functional as F\n",
    "from sklearn.model_selection import train_test_split\n",
    "from sklearn.metrics import accuracy_score\n",
    "from sklearn.preprocessing import LabelEncoder\n",
    "from sklearn.datasets import make_classification\n",
    "from sklearn.metrics import roc_auc_score\n",
    "from sklearn.metrics import f1_score\n",
    "from sklearn.metrics import average_precision_score\n",
    "\n",
    "seed_everything(10, workers=True)"
   ]
  },
  {
   "cell_type": "markdown",
   "metadata": {},
   "source": [
    "Hyperparameters:"
   ]
  },
  {
   "cell_type": "code",
   "execution_count": 44,
   "metadata": {},
   "outputs": [],
   "source": [
    "final_num_epochs=50\n",
    "final_lr=0.003\n",
    "final_hidden_size=100\n",
    "final_batch_size=32"
   ]
  },
  {
   "cell_type": "markdown",
   "metadata": {},
   "source": [
    "Loading data from path, converting objs to a dataframe for analysis and prediction task"
   ]
  },
  {
   "cell_type": "code",
   "execution_count": 20,
   "metadata": {},
   "outputs": [],
   "source": [
    "path=\"C:/Users/miria/OneDrive/Documents/AMatematyka/aaaaDL4LS/DL4LS24-IDK-main/data/train/cell_data.h5ad\"\n",
    "### input Your path\n",
    "\n",
    "anndata = ad.read_h5ad(path)\n",
    "anndata.layers\n",
    "anndata.X = anndata.layers['exprs'] # FIX!\n",
    "\n",
    "df=anndata.obs\n",
    "counts=anndata.layers['counts']\n",
    "exprs=anndata.layers['exprs']"
   ]
  },
  {
   "cell_type": "markdown",
   "metadata": {},
   "source": [
    "Appending information from counts and exprs to dataframe for prediction task"
   ]
  },
  {
   "cell_type": "code",
   "execution_count": 21,
   "metadata": {},
   "outputs": [],
   "source": [
    "\n",
    "list_cols_exprs=['exprs'+str(i) for i in range(40)]\n",
    "\n",
    "df_exprs = pd.DataFrame(data=exprs, columns=list_cols_exprs,index=df.index)"
   ]
  },
  {
   "cell_type": "code",
   "execution_count": 22,
   "metadata": {},
   "outputs": [
    {
     "name": "stdout",
     "output_type": "stream",
     "text": [
      "(236791, 79)\n"
     ]
    }
   ],
   "source": [
    "result = pd.concat([df, df_exprs], axis=1)\n",
    "\n",
    "print(result.shape)\n",
    "df=result.copy()"
   ]
  },
  {
   "cell_type": "markdown",
   "metadata": {},
   "source": [
    "Data preprocessing; \n",
    "1. Remove unneccesary columns \n",
    "2. One-hot encode categorical ones \n",
    "3. End up with only float values"
   ]
  },
  {
   "cell_type": "code",
   "execution_count": 23,
   "metadata": {},
   "outputs": [
    {
     "name": "stdout",
     "output_type": "stream",
     "text": [
      "All columns:  Index(['image', 'sample_id', 'ObjectNumber', 'Pos_X', 'Pos_Y', 'area',\n",
      "       'major_axis_length', 'minor_axis_length', 'eccentricity', 'width_px',\n",
      "       'height_px', 'acquisition_id', 'SlideId', 'Study', 'Box.Description',\n",
      "       'Position', 'SampleId', 'Indication', 'BatchId', 'SubBatchId', 'ROI',\n",
      "       'ROIonSlide', 'includeImage', 'flag_no_cells', 'flag_no_ROI',\n",
      "       'flag_total_area', 'flag_percent_covered', 'small_cell', 'celltypes',\n",
      "       'flag_tumor', 'PD1_pos', 'Ki67_pos', 'cleavedPARP_pos', 'GrzB_pos',\n",
      "       'tumor_patches', 'distToCells', 'CD20_patches', 'Batch', 'cell_labels',\n",
      "       'exprs0', 'exprs1', 'exprs2', 'exprs3', 'exprs4', 'exprs5', 'exprs6',\n",
      "       'exprs7', 'exprs8', 'exprs9', 'exprs10', 'exprs11', 'exprs12',\n",
      "       'exprs13', 'exprs14', 'exprs15', 'exprs16', 'exprs17', 'exprs18',\n",
      "       'exprs19', 'exprs20', 'exprs21', 'exprs22', 'exprs23', 'exprs24',\n",
      "       'exprs25', 'exprs26', 'exprs27', 'exprs28', 'exprs29', 'exprs30',\n",
      "       'exprs31', 'exprs32', 'exprs33', 'exprs34', 'exprs35', 'exprs36',\n",
      "       'exprs37', 'exprs38', 'exprs39'],\n",
      "      dtype='object')\n",
      "False\n"
     ]
    },
    {
     "name": "stderr",
     "output_type": "stream",
     "text": [
      "C:\\Users\\miria\\AppData\\Local\\Temp\\ipykernel_18672\\703076635.py:16: FutureWarning: The behavior of Series.replace (and DataFrame.replace) with CategoricalDtype is deprecated. In a future version, replace will only be used for cases that preserve the categories. To change the categories, use ser.cat.rename_categories instead.\n",
      "  df['CD20_patches'] = df['CD20_patches'].replace('', '0')\n"
     ]
    },
    {
     "data": {
      "text/plain": [
       "(236791, 80)"
      ]
     },
     "execution_count": 23,
     "metadata": {},
     "output_type": "execute_result"
    }
   ],
   "source": [
    "print(\"All columns: \",df.columns)\n",
    "int_columns = df.select_dtypes(include='int').columns.tolist()\n",
    "df[int_columns] = df[int_columns].astype(float)\n",
    "\n",
    "non_float_columns = df.select_dtypes(exclude='float').columns.tolist()\n",
    "'''for column in non_float_columns:\n",
    "    print(f\"{column}: {df[column].dtype}\")'''\n",
    "category_columns = df.select_dtypes(include='category').columns.tolist()\n",
    "print(df['sample_id'].equals(df['SampleId']))\n",
    "ids=df['sample_id']\n",
    "Y=df['cell_labels']\n",
    "\n",
    "columns_to_remove=['SampleId','image','sample_id','SlideId','BatchId','SubBatchId','Batch','Box.Description','cell_labels','celltypes']\n",
    "\n",
    "df = df.drop(columns=columns_to_remove)\n",
    "df['CD20_patches'] = df['CD20_patches'].replace('', '0')\n",
    "df['CD20_patches'] = df['CD20_patches'].astype(float)\n",
    "\n",
    "category_columns = df.select_dtypes(include='category').columns.tolist()\n",
    "category_columns\n",
    "\n",
    "one_hot_encoded1 = pd.get_dummies(df['Indication'], prefix='Indication')\n",
    "one_hot_encoded1\n",
    "one_hot_encoded1= one_hot_encoded1.astype(float)\n",
    "df = df.join(one_hot_encoded1)\n",
    "\n",
    "one_hot_encoded2 = pd.get_dummies(df['Study'], prefix='Study')\n",
    "one_hot_encoded2= one_hot_encoded2.astype(float)\n",
    "one_hot_encoded2\n",
    "df = df.join(one_hot_encoded2)\n",
    "df = df.drop(columns=['Indication','Study'])\n",
    "category_columns = df.select_dtypes(include='category').columns.tolist()\n",
    "\n",
    "df.shape"
   ]
  },
  {
   "cell_type": "markdown",
   "metadata": {},
   "source": [
    "Dataframe df is now filled with float values, Y is our label derived from cell_labels column, we encode it below:"
   ]
  },
  {
   "cell_type": "code",
   "execution_count": 24,
   "metadata": {},
   "outputs": [
    {
     "data": {
      "text/plain": [
       "14"
      ]
     },
     "execution_count": 24,
     "metadata": {},
     "output_type": "execute_result"
    }
   ],
   "source": [
    "encoder = LabelEncoder()\n",
    "y_encoded = encoder.fit_transform(Y)\n",
    "num_classes = len(np.unique(y_encoded))\n",
    "num_classes"
   ]
  },
  {
   "cell_type": "markdown",
   "metadata": {},
   "source": [
    "X is our data which is going to be fed to the model:"
   ]
  },
  {
   "cell_type": "code",
   "execution_count": 25,
   "metadata": {},
   "outputs": [
    {
     "name": "stdout",
     "output_type": "stream",
     "text": [
      "(189432, 80) (47359, 80)\n"
     ]
    }
   ],
   "source": [
    "X=df.copy()\n",
    "\n",
    "'''\n",
    "### Normalization column wise\n",
    "X_np=X.to_numpy()\n",
    "nan_indices = np.isnan(X_np)\n",
    "num_nans = np.sum(nan_indices)\n",
    "\n",
    "# Print the number of NaN values\n",
    "print(\"Number of NaN values:\", num_nans)\n",
    "column_means = np.nanmean(X_np, axis=0)\n",
    "\n",
    "# Replace NaN values with column means\n",
    "X_np[nan_indices] = np.take(column_means, np.where(nan_indices)[1])\n",
    "nan_indices = np.isnan(X_np)\n",
    "num_nans = np.sum(nan_indices)\n",
    "print(\"Number of NaN values:\", num_nans)\n",
    "\n",
    "mean = np.mean(X_np, axis=0)\n",
    "std_dev = np.std(X_np, axis=0)\n",
    "\n",
    "# Apply z-score normalization\n",
    "normalized_data = (X_np - mean) / std_dev'''\n",
    "\n",
    "seed = 10\n",
    "test_size=0.2\n",
    "X_train, X_test, Y_train, Y_test = train_test_split(X, y_encoded, test_size=test_size, random_state=seed)\n",
    "\n",
    "X_train=X_train.to_numpy()\n",
    "X_test=X_test.to_numpy()\n",
    "\n",
    "print(X_train.shape,X_test.shape)"
   ]
  },
  {
   "cell_type": "markdown",
   "metadata": {},
   "source": [
    "We must deal with NaN values in the X set, we replace them with means from the columns, to avoid data loss"
   ]
  },
  {
   "cell_type": "code",
   "execution_count": 26,
   "metadata": {},
   "outputs": [
    {
     "name": "stdout",
     "output_type": "stream",
     "text": [
      "Number of NaN values: 9435\n",
      "Number of NaN values: 0\n"
     ]
    }
   ],
   "source": [
    "nan_indices = np.isnan(X_train)\n",
    "num_nans = np.sum(nan_indices)\n",
    "\n",
    "print(\"Number of NaN values:\", num_nans)\n",
    "column_means = np.nanmean(X_train, axis=0)\n",
    "\n",
    "# We replace NaN values with column means\n",
    "X_train[nan_indices] = np.take(column_means, np.where(nan_indices)[1])\n",
    "nan_indices = np.isnan(X_train)\n",
    "num_nans = np.sum(nan_indices)\n",
    "print(\"Number of NaN values:\", num_nans)\n"
   ]
  },
  {
   "cell_type": "code",
   "execution_count": 27,
   "metadata": {},
   "outputs": [
    {
     "name": "stdout",
     "output_type": "stream",
     "text": [
      "Number of NaN values: 2394\n",
      "Number of NaN values: 0\n"
     ]
    }
   ],
   "source": [
    "nan_indices = np.isnan(X_test)\n",
    "num_nans = np.sum(nan_indices)\n",
    "\n",
    "print(\"Number of NaN values:\", num_nans)\n",
    "column_means = np.nanmean(X_test, axis=0)\n",
    "\n",
    "# We replace NaN values with column means\n",
    "X_test[nan_indices] = np.take(column_means, np.where(nan_indices)[1])\n",
    "nan_indices = np.isnan(X_test)\n",
    "num_nans = np.sum(nan_indices)\n",
    "print(\"Number of NaN values:\", num_nans)"
   ]
  },
  {
   "cell_type": "markdown",
   "metadata": {},
   "source": [
    "We define the linear classifier architecture"
   ]
  },
  {
   "cell_type": "code",
   "execution_count": 31,
   "metadata": {},
   "outputs": [],
   "source": [
    "\n",
    "class LinearClassifier(nn.Module):\n",
    "    def __init__(self, input_size, hidden_size, num_classes):\n",
    "        super(LinearClassifier, self).__init__()\n",
    "        self.fc1 = nn.Linear(input_size, hidden_size)\n",
    "        self.fc2 = nn.Linear(hidden_size, hidden_size)\n",
    "        self.fc3 = nn.Linear(hidden_size, num_classes)  \n",
    "        \n",
    "    def forward(self, x):\n",
    "        x = torch.relu(self.fc1(x))\n",
    "        x = torch.relu(self.fc2(x))\n",
    "        x=self.fc3(x)\n",
    "        return x\n",
    "\n",
    "\n",
    "X_tensor = torch.tensor(X_train, dtype=torch.float32)\n",
    "Y_tensor = torch.tensor(Y_train, dtype=torch.long)  \n",
    "\n",
    "dataset = TensorDataset(X_tensor, Y_tensor)\n",
    "dataloader = DataLoader(dataset, batch_size=32, shuffle=True)\n",
    "\n",
    "model = LinearClassifier(input_size=X_tensor.shape[1], hidden_size=100, num_classes=14)\n",
    "criterion = nn.CrossEntropyLoss()  # Cross-entropy loss for classification\n",
    "optimizer = optim.Adam(model.parameters(), lr=0.003)\n",
    "\n",
    "\n",
    "def train(model, dataloader, criterion, optimizer, num_epochs=10):\n",
    "    model.train()\n",
    "    for epoch in range(num_epochs):\n",
    "        running_loss = 0.0\n",
    "        correct_predictions = 0\n",
    "        total_samples = 0\n",
    "        for inputs, targets in dataloader:\n",
    "            optimizer.zero_grad()\n",
    "            outputs = model(inputs)\n",
    "            loss = criterion(outputs, targets)\n",
    "            loss.backward()\n",
    "            optimizer.step()\n",
    "            running_loss += loss.item() * inputs.size(0)\n",
    "            \n",
    "            # Calculate loss and acc\n",
    "            _, predicted = torch.max(outputs, 1)\n",
    "            correct_predictions += (predicted == targets).sum().item()\n",
    "            total_samples += targets.size(0)\n",
    "        \n",
    "        epoch_loss = running_loss / len(dataloader.dataset)\n",
    "        epoch_accuracy = correct_predictions / total_samples\n",
    "        \n",
    "        print(f\"Epoch {epoch+1}/{num_epochs}, Loss: {epoch_loss:.4f}, Accuracy: {epoch_accuracy:.4f}\")\n",
    "\n"
   ]
  },
  {
   "cell_type": "markdown",
   "metadata": {},
   "source": [
    "We train the model on the training set"
   ]
  },
  {
   "cell_type": "code",
   "execution_count": 32,
   "metadata": {},
   "outputs": [
    {
     "name": "stdout",
     "output_type": "stream",
     "text": [
      "Epoch 1/10, Loss: 0.8222, Accuracy: 0.7555\n",
      "Epoch 2/10, Loss: 0.5044, Accuracy: 0.8437\n",
      "Epoch 3/10, Loss: 0.4548, Accuracy: 0.8599\n",
      "Epoch 4/10, Loss: 0.4165, Accuracy: 0.8730\n",
      "Epoch 5/10, Loss: 0.3954, Accuracy: 0.8802\n",
      "Epoch 6/10, Loss: 0.3770, Accuracy: 0.8858\n",
      "Epoch 7/10, Loss: 0.3651, Accuracy: 0.8900\n",
      "Epoch 8/10, Loss: 0.3560, Accuracy: 0.8937\n",
      "Epoch 9/10, Loss: 0.3464, Accuracy: 0.8957\n",
      "Epoch 10/10, Loss: 0.3367, Accuracy: 0.8992\n"
     ]
    }
   ],
   "source": [
    "# Train the model\n",
    "train(model, dataloader, criterion, optimizer)"
   ]
  },
  {
   "cell_type": "markdown",
   "metadata": {},
   "source": [
    "We make predictions for test set and calculate metrics:"
   ]
  },
  {
   "cell_type": "code",
   "execution_count": 33,
   "metadata": {},
   "outputs": [
    {
     "name": "stdout",
     "output_type": "stream",
     "text": [
      "torch.Size([47359, 14])\n"
     ]
    }
   ],
   "source": [
    "X_tensor_test = torch.tensor(X_test, dtype=torch.float32)\n",
    "Y_tensor_test = torch.tensor(Y_test, dtype=torch.long)  \n",
    "\n",
    "with torch.no_grad():\n",
    "    outputs=model(X_tensor_test)\n",
    "    print(outputs.shape)\n",
    "    predictions_probabilities=torch.softmax(outputs,axis=1)\n",
    "    #predictions_probabilities /= predictions_probabilities.sum(axis=1, keepdims=True)\n",
    "    predictions_probabilities=predictions_probabilities.detach().numpy() \n",
    "    predictions=np.argmax(predictions_probabilities, axis=1)\n"
   ]
  },
  {
   "cell_type": "markdown",
   "metadata": {},
   "source": [
    "We print the desired scores and metrics"
   ]
  },
  {
   "cell_type": "code",
   "execution_count": 34,
   "metadata": {},
   "outputs": [
    {
     "name": "stdout",
     "output_type": "stream",
     "text": [
      "Accuracy: 0.9163411389598598\n",
      "Macro F1 score: 0.6942432854737298\n",
      "AUC score (OvR): 0.9836732313897321\n",
      "Average Precision score: 0.7630432734105855\n"
     ]
    }
   ],
   "source": [
    "accuracy = accuracy_score(Y_test, predictions)\n",
    "print(\"Accuracy:\", accuracy)\n",
    "\n",
    "macro_f1 = f1_score(Y_test, predictions, average='macro')\n",
    "print(\"Macro F1 score:\", macro_f1)\n",
    "\n",
    "auc = roc_auc_score(Y_test, predictions_probabilities, multi_class='ovr')\n",
    "print(\"AUC score (OvR):\", auc)\n",
    "\n",
    "average_precision = average_precision_score(Y_test, predictions_probabilities)\n",
    "print(\"Average Precision score:\", average_precision)"
   ]
  },
  {
   "cell_type": "markdown",
   "metadata": {},
   "source": [
    "We use Monte Carlo dropout for uncertainty analysis"
   ]
  },
  {
   "cell_type": "code",
   "execution_count": 29,
   "metadata": {},
   "outputs": [],
   "source": [
    "\n",
    "def uncertainty_analysis(model, dataloader, num_samples=100):\n",
    "    model.eval()\n",
    "    uncertainties = []\n",
    "    with torch.no_grad():\n",
    "        for inputs, _ in dataloader:\n",
    "            mc_predictions = torch.stack([model(inputs).softmax(dim=1) for _ in range(num_samples)], dim=0)\n",
    "            mean_prediction = mc_predictions.mean(dim=0)\n",
    "            predictive_entropy = -(mean_prediction * torch.log(mean_prediction)).sum(dim=1)\n",
    "            uncertainties.append(predictive_entropy.numpy())\n",
    "    return np.concatenate(uncertainties)\n",
    "\n",
    "\n",
    "def visualize_uncertainties(uncertainties):\n",
    "    plt.hist(uncertainties, bins=20)\n",
    "    plt.xlabel('Uncertainty')\n",
    "    plt.ylabel('Frequency')\n",
    "    plt.title('Distribution of Uncertainties')\n",
    "    plt.show()\n"
   ]
  },
  {
   "cell_type": "markdown",
   "metadata": {},
   "source": [
    "We add dropout possibility to a classifier"
   ]
  },
  {
   "cell_type": "code",
   "execution_count": 38,
   "metadata": {},
   "outputs": [
    {
     "name": "stdout",
     "output_type": "stream",
     "text": [
      "Epoch 1/10, Loss: 0.7951, Accuracy: 0.7694\n",
      "Epoch 2/10, Loss: 0.4832, Accuracy: 0.8511\n",
      "Epoch 3/10, Loss: 0.4369, Accuracy: 0.8649\n",
      "Epoch 4/10, Loss: 0.4270, Accuracy: 0.8706\n",
      "Epoch 5/10, Loss: 0.4034, Accuracy: 0.8773\n",
      "Epoch 6/10, Loss: 0.3928, Accuracy: 0.8817\n",
      "Epoch 7/10, Loss: 0.3824, Accuracy: 0.8840\n",
      "Epoch 8/10, Loss: 0.3722, Accuracy: 0.8884\n",
      "Epoch 9/10, Loss: 0.3625, Accuracy: 0.8900\n",
      "Epoch 10/10, Loss: 0.3593, Accuracy: 0.8922\n",
      "Uncertainties: [1.77600038e+00 1.82851385e-02 1.59306219e-03 ... 1.21612206e-01\n",
      " 6.78264081e-01 2.48103788e-05]\n"
     ]
    },
    {
     "data": {
      "image/png": "[encoded data removed]",
      "text/plain": [
       "<Figure size 640x480 with 1 Axes>"
      ]
     },
     "metadata": {},
     "output_type": "display_data"
    }
   ],
   "source": [
    "\n",
    "class LinearClassifierWithDropout(nn.Module):\n",
    "    def __init__(self, input_size, hidden_size, num_classes, dropout_prob=0.01):\n",
    "        super(LinearClassifierWithDropout, self).__init__()\n",
    "        self.fc1 = nn.Linear(input_size, hidden_size)\n",
    "        self.dropout1 = nn.Dropout(dropout_prob)  # Dropout with probability dropout_prob\n",
    "        self.fc2 = nn.Linear(hidden_size, hidden_size)\n",
    "        self.dropout2 = nn.Dropout(dropout_prob)  # Dropout with probability dropout_prob\n",
    "        self.fc3 = nn.Linear(hidden_size, num_classes)\n",
    "        \n",
    "    def forward(self, x):\n",
    "        x = torch.relu(self.fc1(x))\n",
    "        x = self.dropout1(x)  # Apply dropout during forward pass\n",
    "        x = torch.relu(self.fc2(x))\n",
    "        x = self.dropout2(x)  # Apply dropout during forward pass\n",
    "        x = self.fc3(x)\n",
    "        return x\n",
    "\n",
    "model_dropout = LinearClassifierWithDropout(input_size=X_tensor.shape[1], hidden_size=100, num_classes=14, dropout_prob=0.01)\n",
    "criterion_drop = nn.CrossEntropyLoss()  # Cross-entropy loss for classification  task\n",
    "optimizer_drop = optim.Adam(model_dropout.parameters(), lr=0.003)\n",
    "dataloader_drop = DataLoader(dataset, batch_size=32, shuffle=True)\n",
    "\n",
    "\n",
    "# We train the model with dropout_prob=0\n",
    "train(model_dropout, dataloader_drop, criterion_drop, optimizer_drop, num_epochs=10)\n",
    "\n",
    "# Then we set dropout_prob=0.3 for uncertainty analysis\n",
    "model_dropout.dropout1.p = 0.3\n",
    "model_dropout.dropout2.p = 0.3\n",
    "\n",
    "\n",
    "uncertainties = uncertainty_analysis(model_dropout, dataloader)\n",
    "print(\"Uncertainties:\", uncertainties)\n",
    "\n",
    "uncertainties=np.nan_to_num(uncertainties)\n",
    "\n",
    "visualize_uncertainties(uncertainties)"
   ]
  },
  {
   "cell_type": "markdown",
   "metadata": {},
   "source": [
    "Final model trained on whole set: (Preprocessing)"
   ]
  },
  {
   "cell_type": "code",
   "execution_count": 41,
   "metadata": {},
   "outputs": [
    {
     "name": "stdout",
     "output_type": "stream",
     "text": [
      "Number of NaN values: 0\n",
      "Number of NaN values: 0\n"
     ]
    }
   ],
   "source": [
    "\n",
    "X_all=X.to_numpy()\n",
    "nan_indices = np.isnan(X_all)\n",
    "num_nans = np.sum(nan_indices)\n",
    "\n",
    "print(\"Number of NaN values:\", num_nans)\n",
    "column_means = np.nanmean(X_all, axis=0)\n",
    "\n",
    "# We replace NaN values with column means\n",
    "X_all[nan_indices] = np.take(column_means, np.where(nan_indices)[1])\n",
    "nan_indices = np.isnan(X_all)\n",
    "num_nans = np.sum(nan_indices)\n",
    "print(\"Number of NaN values:\", num_nans)"
   ]
  },
  {
   "cell_type": "code",
   "execution_count": 45,
   "metadata": {},
   "outputs": [
    {
     "name": "stdout",
     "output_type": "stream",
     "text": [
      "Epoch 1/50, Loss: 0.8322, Accuracy: 0.7480\n",
      "Epoch 2/50, Loss: 0.4712, Accuracy: 0.8524\n",
      "Epoch 3/50, Loss: 0.4059, Accuracy: 0.8749\n",
      "Epoch 4/50, Loss: 0.3822, Accuracy: 0.8836\n",
      "Epoch 5/50, Loss: 0.3605, Accuracy: 0.8913\n",
      "Epoch 6/50, Loss: 0.3861, Accuracy: 0.8921\n",
      "Epoch 7/50, Loss: 0.3457, Accuracy: 0.8950\n",
      "Epoch 8/50, Loss: 0.3316, Accuracy: 0.8997\n",
      "Epoch 9/50, Loss: 0.3222, Accuracy: 0.9028\n",
      "Epoch 10/50, Loss: 0.3198, Accuracy: 0.9036\n",
      "Epoch 11/50, Loss: 0.3113, Accuracy: 0.9063\n",
      "Epoch 12/50, Loss: 0.3115, Accuracy: 0.9066\n"
     ]
    },
    {
     "ename": "KeyboardInterrupt",
     "evalue": "",
     "output_type": "error",
     "traceback": [
      "\u001b[1;31m---------------------------------------------------------------------------\u001b[0m",
      "\u001b[1;31mKeyboardInterrupt\u001b[0m                         Traceback (most recent call last)",
      "Cell \u001b[1;32mIn[45], line 14\u001b[0m\n\u001b[0;32m     11\u001b[0m criterion \u001b[38;5;241m=\u001b[39m nn\u001b[38;5;241m.\u001b[39mCrossEntropyLoss()  \u001b[38;5;66;03m# Cross-entropy loss for classification\u001b[39;00m\n\u001b[0;32m     12\u001b[0m optimizer_final \u001b[38;5;241m=\u001b[39m optim\u001b[38;5;241m.\u001b[39mAdam(model_final\u001b[38;5;241m.\u001b[39mparameters(), lr\u001b[38;5;241m=\u001b[39mfinal_lr)\n\u001b[1;32m---> 14\u001b[0m \u001b[43mtrain\u001b[49m\u001b[43m(\u001b[49m\u001b[43mmodel_final\u001b[49m\u001b[43m,\u001b[49m\u001b[43m \u001b[49m\u001b[43mdataloader_final\u001b[49m\u001b[43m,\u001b[49m\u001b[43m \u001b[49m\u001b[43mcriterion\u001b[49m\u001b[43m,\u001b[49m\u001b[43m \u001b[49m\u001b[43moptimizer_final\u001b[49m\u001b[43m,\u001b[49m\u001b[43m \u001b[49m\u001b[43mnum_epochs\u001b[49m\u001b[38;5;241;43m=\u001b[39;49m\u001b[43mfinal_num_epochs\u001b[49m\u001b[43m)\u001b[49m\n",
      "Cell \u001b[1;32mIn[31], line 37\u001b[0m, in \u001b[0;36mtrain\u001b[1;34m(model, dataloader, criterion, optimizer, num_epochs)\u001b[0m\n\u001b[0;32m     35\u001b[0m \u001b[38;5;28;01mfor\u001b[39;00m inputs, targets \u001b[38;5;129;01min\u001b[39;00m dataloader:\n\u001b[0;32m     36\u001b[0m     optimizer\u001b[38;5;241m.\u001b[39mzero_grad()\n\u001b[1;32m---> 37\u001b[0m     outputs \u001b[38;5;241m=\u001b[39m \u001b[43mmodel\u001b[49m\u001b[43m(\u001b[49m\u001b[43minputs\u001b[49m\u001b[43m)\u001b[49m\n\u001b[0;32m     38\u001b[0m     loss \u001b[38;5;241m=\u001b[39m criterion(outputs, targets)\n\u001b[0;32m     39\u001b[0m     loss\u001b[38;5;241m.\u001b[39mbackward()\n",
      "File \u001b[1;32mc:\\Users\\miria\\anaconda3\\envs\\dl4ls\\lib\\site-packages\\torch\\nn\\modules\\module.py:1130\u001b[0m, in \u001b[0;36mModule._call_impl\u001b[1;34m(self, *input, **kwargs)\u001b[0m\n\u001b[0;32m   1126\u001b[0m \u001b[38;5;66;03m# If we don't have any hooks, we want to skip the rest of the logic in\u001b[39;00m\n\u001b[0;32m   1127\u001b[0m \u001b[38;5;66;03m# this function, and just call forward.\u001b[39;00m\n\u001b[0;32m   1128\u001b[0m \u001b[38;5;28;01mif\u001b[39;00m \u001b[38;5;129;01mnot\u001b[39;00m (\u001b[38;5;28mself\u001b[39m\u001b[38;5;241m.\u001b[39m_backward_hooks \u001b[38;5;129;01mor\u001b[39;00m \u001b[38;5;28mself\u001b[39m\u001b[38;5;241m.\u001b[39m_forward_hooks \u001b[38;5;129;01mor\u001b[39;00m \u001b[38;5;28mself\u001b[39m\u001b[38;5;241m.\u001b[39m_forward_pre_hooks \u001b[38;5;129;01mor\u001b[39;00m _global_backward_hooks\n\u001b[0;32m   1129\u001b[0m         \u001b[38;5;129;01mor\u001b[39;00m _global_forward_hooks \u001b[38;5;129;01mor\u001b[39;00m _global_forward_pre_hooks):\n\u001b[1;32m-> 1130\u001b[0m     \u001b[38;5;28;01mreturn\u001b[39;00m forward_call(\u001b[38;5;241m*\u001b[39m\u001b[38;5;28minput\u001b[39m, \u001b[38;5;241m*\u001b[39m\u001b[38;5;241m*\u001b[39mkwargs)\n\u001b[0;32m   1131\u001b[0m \u001b[38;5;66;03m# Do not call functions when jit is used\u001b[39;00m\n\u001b[0;32m   1132\u001b[0m full_backward_hooks, non_full_backward_hooks \u001b[38;5;241m=\u001b[39m [], []\n",
      "Cell \u001b[1;32mIn[31], line 10\u001b[0m, in \u001b[0;36mLinearClassifier.forward\u001b[1;34m(self, x)\u001b[0m\n\u001b[0;32m      8\u001b[0m \u001b[38;5;28;01mdef\u001b[39;00m \u001b[38;5;21mforward\u001b[39m(\u001b[38;5;28mself\u001b[39m, x):\n\u001b[0;32m      9\u001b[0m     x \u001b[38;5;241m=\u001b[39m torch\u001b[38;5;241m.\u001b[39mrelu(\u001b[38;5;28mself\u001b[39m\u001b[38;5;241m.\u001b[39mfc1(x))\n\u001b[1;32m---> 10\u001b[0m     x \u001b[38;5;241m=\u001b[39m torch\u001b[38;5;241m.\u001b[39mrelu(\u001b[38;5;28;43mself\u001b[39;49m\u001b[38;5;241;43m.\u001b[39;49m\u001b[43mfc2\u001b[49m\u001b[43m(\u001b[49m\u001b[43mx\u001b[49m\u001b[43m)\u001b[49m)\n\u001b[0;32m     11\u001b[0m     x\u001b[38;5;241m=\u001b[39m\u001b[38;5;28mself\u001b[39m\u001b[38;5;241m.\u001b[39mfc3(x)\n\u001b[0;32m     12\u001b[0m     \u001b[38;5;66;03m#x = F.softmax(x, dim=1)\u001b[39;00m\n\u001b[0;32m     13\u001b[0m     \u001b[38;5;66;03m#print(x.shape)\u001b[39;00m\n",
      "File \u001b[1;32mc:\\Users\\miria\\anaconda3\\envs\\dl4ls\\lib\\site-packages\\torch\\nn\\modules\\module.py:1130\u001b[0m, in \u001b[0;36mModule._call_impl\u001b[1;34m(self, *input, **kwargs)\u001b[0m\n\u001b[0;32m   1126\u001b[0m \u001b[38;5;66;03m# If we don't have any hooks, we want to skip the rest of the logic in\u001b[39;00m\n\u001b[0;32m   1127\u001b[0m \u001b[38;5;66;03m# this function, and just call forward.\u001b[39;00m\n\u001b[0;32m   1128\u001b[0m \u001b[38;5;28;01mif\u001b[39;00m \u001b[38;5;129;01mnot\u001b[39;00m (\u001b[38;5;28mself\u001b[39m\u001b[38;5;241m.\u001b[39m_backward_hooks \u001b[38;5;129;01mor\u001b[39;00m \u001b[38;5;28mself\u001b[39m\u001b[38;5;241m.\u001b[39m_forward_hooks \u001b[38;5;129;01mor\u001b[39;00m \u001b[38;5;28mself\u001b[39m\u001b[38;5;241m.\u001b[39m_forward_pre_hooks \u001b[38;5;129;01mor\u001b[39;00m _global_backward_hooks\n\u001b[0;32m   1129\u001b[0m         \u001b[38;5;129;01mor\u001b[39;00m _global_forward_hooks \u001b[38;5;129;01mor\u001b[39;00m _global_forward_pre_hooks):\n\u001b[1;32m-> 1130\u001b[0m     \u001b[38;5;28;01mreturn\u001b[39;00m forward_call(\u001b[38;5;241m*\u001b[39m\u001b[38;5;28minput\u001b[39m, \u001b[38;5;241m*\u001b[39m\u001b[38;5;241m*\u001b[39mkwargs)\n\u001b[0;32m   1131\u001b[0m \u001b[38;5;66;03m# Do not call functions when jit is used\u001b[39;00m\n\u001b[0;32m   1132\u001b[0m full_backward_hooks, non_full_backward_hooks \u001b[38;5;241m=\u001b[39m [], []\n",
      "File \u001b[1;32mc:\\Users\\miria\\anaconda3\\envs\\dl4ls\\lib\\site-packages\\torch\\nn\\modules\\linear.py:114\u001b[0m, in \u001b[0;36mLinear.forward\u001b[1;34m(self, input)\u001b[0m\n\u001b[0;32m    113\u001b[0m \u001b[38;5;28;01mdef\u001b[39;00m \u001b[38;5;21mforward\u001b[39m(\u001b[38;5;28mself\u001b[39m, \u001b[38;5;28minput\u001b[39m: Tensor) \u001b[38;5;241m-\u001b[39m\u001b[38;5;241m>\u001b[39m Tensor:\n\u001b[1;32m--> 114\u001b[0m     \u001b[38;5;28;01mreturn\u001b[39;00m \u001b[43mF\u001b[49m\u001b[38;5;241;43m.\u001b[39;49m\u001b[43mlinear\u001b[49m\u001b[43m(\u001b[49m\u001b[38;5;28;43minput\u001b[39;49m\u001b[43m,\u001b[49m\u001b[43m \u001b[49m\u001b[38;5;28;43mself\u001b[39;49m\u001b[38;5;241;43m.\u001b[39;49m\u001b[43mweight\u001b[49m\u001b[43m,\u001b[49m\u001b[43m \u001b[49m\u001b[38;5;28;43mself\u001b[39;49m\u001b[38;5;241;43m.\u001b[39;49m\u001b[43mbias\u001b[49m\u001b[43m)\u001b[49m\n",
      "\u001b[1;31mKeyboardInterrupt\u001b[0m: "
     ]
    }
   ],
   "source": [
    "Y_all=y_encoded\n",
    "\n",
    "X_tensor_all = torch.tensor(X_all, dtype=torch.float32)\n",
    "Y_tensor_all = torch.tensor(Y_all, dtype=torch.long)  \n",
    "\n",
    "# Create DataLoader\n",
    "dataset = TensorDataset(X_tensor_all, Y_tensor_all)\n",
    "dataloader_final = DataLoader(dataset, batch_size=final_batch_size, shuffle=True)\n",
    "\n",
    "model_final = LinearClassifier(input_size=X_tensor.shape[1], hidden_size=final_hidden_size, num_classes=14)\n",
    "criterion = nn.CrossEntropyLoss()  # Cross-entropy loss for classification\n",
    "optimizer_final = optim.Adam(model_final.parameters(), lr=final_lr)\n",
    "\n",
    "train(model_final, dataloader_final, criterion, optimizer_final, num_epochs=final_num_epochs)\n"
   ]
  },
  {
   "cell_type": "markdown",
   "metadata": {},
   "source": [
    "Testing model on the new input"
   ]
  },
  {
   "cell_type": "code",
   "execution_count": null,
   "metadata": {},
   "outputs": [],
   "source": [
    "new_input='...'\n",
    "new_ouput='...'\n",
    "\n",
    "with torch.no_grad():\n",
    "    outputs=model_final(new_input)\n",
    "    print(outputs.shape)\n",
    "    predictions_probabilities=torch.softmax(outputs,axis=1)\n",
    "    #predictions_probabilities /= predictions_probabilities.sum(axis=1, keepdims=True)\n",
    "    predictions_probabilities=predictions_probabilities.detach().numpy() \n",
    "    predictions=np.argmax(predictions_probabilities, axis=1)\n",
    "\n",
    "accuracy = accuracy_score(new_ouput, predictions)\n",
    "print(\"Accuracy:\", accuracy)\n",
    "\n",
    "macro_f1 = f1_score(new_ouput, predictions, average='macro')\n",
    "print(\"Macro F1 score:\", macro_f1)\n",
    "\n",
    "auc = roc_auc_score(new_ouput, predictions_probabilities, multi_class='ovr')\n",
    "print(\"AUC score (OvR):\", auc)\n",
    "\n",
    "average_precision = average_precision_score(new_ouput, predictions_probabilities)\n",
    "print(\"Average Precision score:\", average_precision)"
   ]
  }
 ],
 "metadata": {
  "kernelspec": {
   "display_name": "dl4ls",
   "language": "python",
   "name": "python3"
  },
  "language_info": {
   "codemirror_mode": {
    "name": "ipython",
    "version": 3
   },
   "file_extension": ".py",
   "mimetype": "text/x-python",
   "name": "python",
   "nbconvert_exporter": "python",
   "pygments_lexer": "ipython3",
   "version": "3.9.13"
  }
 },
 "nbformat": 4,
 "nbformat_minor": 2
}
